{
 "cells": [
  {
   "metadata": {},
   "cell_type": "markdown",
   "source": [
    "# Онлайн магазин \n",
    "#### Опис: \n",
    "У вас є набір даних з інформацією про покупки клієнтів в інтернет-магазині: \n",
    "- InvoiceNo: Номер накладної (ідентифікатор транзакції).\n",
    "- StockCode: Код товару.\n",
    "- Description: Опис товару.\n",
    "- Quantity: Кількість проданих одиниць товару.\n",
    "- InvoiceDate: Дата і час транзакції.\n",
    "- UnitPrice: Ціна за одиницю товару.\n",
    "- CustomerID: Ідентифікатор клієнта.\n",
    "- Country: Країна, де здійснено покупку. \n",
    "Необхідно виконати нижче вказані задачі.\n",
    "\n",
    "#### Задачі:\n",
    "1. Аналіз по країнах:\n",
    "- З’ясувати, в якій країні відбулося найбільше транзакцій.\n",
    "- Порахувати загальний дохід від продажів у кожній країні.\n",
    "\n",
    "2. Аналіз продажів:\n",
    "- Порахувати загальну кількість проданих одиниць кожного товару. Це дозволить визначити, які товари є найбільш популярними.\n",
    "- начити, який товар мав найбільші продажі за кількістю.\n",
    "\n",
    "3. Аналіз виручки:\n",
    "- Обчислити дохід для кожної транзакції, перемноживши кількість товарів на їхню ціну (Quantity × UnitPrice).\n",
    "- йти товар, який приніс найбільший дохід."
   ],
   "id": "e89ab393be929606"
  },
  {
   "metadata": {
    "collapsed": true,
    "ExecuteTime": {
     "end_time": "2024-09-28T19:57:00.234534Z",
     "start_time": "2024-09-28T19:56:40.527710Z"
    }
   },
   "cell_type": "code",
   "source": [
    "import pandas as pd\n",
    "import numpy as np\n",
    "\n",
    "online_retail_dashboard = pd.read_excel('data/Online_Retail.xlsx')\n",
    "online_retail_dashboard.head(1)"
   ],
   "id": "initial_id",
   "outputs": [
    {
     "data": {
      "text/plain": [
       "  InvoiceNo StockCode                         Description  Quantity  \\\n",
       "0    536365    85123A  WHITE HANGING HEART T-LIGHT HOLDER         6   \n",
       "\n",
       "          InvoiceDate  UnitPrice  CustomerID         Country  \n",
       "0 2010-12-01 08:26:00       2.55     17850.0  United Kingdom  "
      ],
      "text/html": [
       "<div>\n",
       "<style scoped>\n",
       "    .dataframe tbody tr th:only-of-type {\n",
       "        vertical-align: middle;\n",
       "    }\n",
       "\n",
       "    .dataframe tbody tr th {\n",
       "        vertical-align: top;\n",
       "    }\n",
       "\n",
       "    .dataframe thead th {\n",
       "        text-align: right;\n",
       "    }\n",
       "</style>\n",
       "<table border=\"1\" class=\"dataframe\">\n",
       "  <thead>\n",
       "    <tr style=\"text-align: right;\">\n",
       "      <th></th>\n",
       "      <th>InvoiceNo</th>\n",
       "      <th>StockCode</th>\n",
       "      <th>Description</th>\n",
       "      <th>Quantity</th>\n",
       "      <th>InvoiceDate</th>\n",
       "      <th>UnitPrice</th>\n",
       "      <th>CustomerID</th>\n",
       "      <th>Country</th>\n",
       "    </tr>\n",
       "  </thead>\n",
       "  <tbody>\n",
       "    <tr>\n",
       "      <th>0</th>\n",
       "      <td>536365</td>\n",
       "      <td>85123A</td>\n",
       "      <td>WHITE HANGING HEART T-LIGHT HOLDER</td>\n",
       "      <td>6</td>\n",
       "      <td>2010-12-01 08:26:00</td>\n",
       "      <td>2.55</td>\n",
       "      <td>17850.0</td>\n",
       "      <td>United Kingdom</td>\n",
       "    </tr>\n",
       "  </tbody>\n",
       "</table>\n",
       "</div>"
      ]
     },
     "execution_count": 3,
     "metadata": {},
     "output_type": "execute_result"
    }
   ],
   "execution_count": 3
  },
  {
   "metadata": {},
   "cell_type": "markdown",
   "source": [
    "#### 1. Аналіз по країнах:\n",
    "- З’ясувати, в якій країні відбулося найбільше транзакцій.\n",
    "- Порахувати загальний дохід від продажів у кожній країні."
   ],
   "id": "305b099bcfbf9536"
  },
  {
   "metadata": {},
   "cell_type": "code",
   "outputs": [],
   "execution_count": null,
   "source": "",
   "id": "374a26284e14c5fd"
  }
 ],
 "metadata": {
  "kernelspec": {
   "display_name": "Python 3",
   "language": "python",
   "name": "python3"
  },
  "language_info": {
   "codemirror_mode": {
    "name": "ipython",
    "version": 2
   },
   "file_extension": ".py",
   "mimetype": "text/x-python",
   "name": "python",
   "nbconvert_exporter": "python",
   "pygments_lexer": "ipython2",
   "version": "2.7.6"
  }
 },
 "nbformat": 4,
 "nbformat_minor": 5
}
